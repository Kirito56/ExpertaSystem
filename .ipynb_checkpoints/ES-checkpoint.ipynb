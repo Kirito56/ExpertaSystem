{
 "cells": [
  {
   "cell_type": "code",
   "execution_count": 1,
   "id": "e32a7341",
   "metadata": {},
   "outputs": [],
   "source": [
    "from ES import Kebab"
   ]
  },
  {
   "cell_type": "code",
   "execution_count": 2,
   "id": "77b2aa4c",
   "metadata": {},
   "outputs": [],
   "source": [
    "from DefFact import DefFact"
   ]
  },
  {
   "cell_type": "code",
   "execution_count": 3,
   "id": "94bcb72a",
   "metadata": {},
   "outputs": [],
   "source": [
    "from Asserts import Asserts"
   ]
  },
  {
   "cell_type": "code",
   "execution_count": 4,
   "id": "944dd6ee",
   "metadata": {},
   "outputs": [],
   "source": [
    "def start(engine: int,\n",
    "          delfacts: bool = False,\n",
    "          numoffact: bool = False,\n",
    "          modify: bool = False,\n",
    "          clear: bool = False,\n",
    "          rules: bool = False):\n",
    "    if engine == 1:\n",
    "        e = DefFact()\n",
    "        e.reset()\n",
    "        e.init_kebab()\n",
    "        print(e.facts)\n",
    "        if delfacts and numoffact:\n",
    "            num = int(input('Fact Number: '))\n",
    "            e.retract(numoffact)\n",
    "        elif modify and numoffact:\n",
    "            num = int(input('Fact Number: '))\n",
    "            Type = str(input(f'Type\\tof\\tmeat:\\n1.\\tPork\\t2.\\tOstrich\\t3.\\tKangaroo\\t4.\\tChicken\\nChoice:\\t{str}\\t-\\t'))\n",
    "            Action = str(input(f'Action:\\n1.\\tWait\\t2.\\tRotate\\t3.\\tTake\\nChoice:\\t{str}\\t-\\t'))\n",
    "            DegreeOfRoastiness = int(input(f'Degree\\tOf\\tRoastiness:\\n1.\\tRoasted\\t'\n",
    "                                           f'2.\\tCheese\\t3.\\tStarted\\tRoasted\\t4.\\tBurned\\nChoice:\\t{int}\\t-\\t'))\n",
    "            AlreadyTurnedOver = bool(input(f'Already\\tTurned\\tOver:\\nEmpty.\\tNo\\t1.\\tYes\\nChoice:\\t{bool}\\t-\\t'))\n",
    "            args = dict(Type=Type, Action=Action, DegreeOfRoastiness=DegreeOfRoastiness,\n",
    "                        AlreadyTurnedOver=AlreadyTurnedOver)\n",
    "            e.declare(e.modify(e.facts[num], Type=args.get('Type'), Action=args.get('Action'),\n",
    "                               DegreeOfRoastiness=args.get('DegreeOfRoastiness'),\n",
    "                               AlreadyTurnedOver=args.get('AlreadyTurnedOver')))\n",
    "            print(e.facts)\n",
    "        elif modify and numoffact and rules:\n",
    "            num = int(input('Fact Number: '))\n",
    "            Type = str(input(f'Type\\tof\\tmeat:\\n1.\\tPork\\t2.\\tOstrich\\t3.\\tKangaroo\\t4.\\tChicken\\nChoice:\\t{str}\\t-\\t'))\n",
    "            Action = str(input(f'Action:\\n1.\\tWait\\t2.\\tRotate\\t3.\\tTake\\nChoice:\\t{str}\\t-\\t'))\n",
    "            DegreeOfRoastiness = int(input(f'Degree\\tOf\\tRoastiness:\\n1.\\tRoasted\\t'\n",
    "                                           f'2.\\tCheese\\t3.\\tStarted\\tRoasted\\t4.\\tBurned\\nChoice:\\t{int}\\t-\\t'))\n",
    "            AlreadyTurnedOver = bool(input(f'Already\\tTurned\\tOver:\\nEmpty.\\tNo\\t1.\\tYes\\nChoice:\\t{bool}\\t-\\t'))\n",
    "            args = dict(Type=Type, Action=Action, DegreeOfRoastiness=DegreeOfRoastiness,\n",
    "                        AlreadyTurnedOver=AlreadyTurnedOver)\n",
    "            e.declare(e.modify(e.facts[num], Type=args.get('Type'), Action=args.get('Action'),\n",
    "                               DegreeOfRoastiness=args.get('DegreeOfRoastiness'),\n",
    "                               AlreadyTurnedOver=args.get('AlreadyTurnedOver')))\n",
    "            print(e.facts)\n",
    "            e.run()\n",
    "        elif clear:\n",
    "            e.facts.clear()\n",
    "        elif rules:\n",
    "            e.run()\n",
    "    elif engine == 2:\n",
    "        e = Asserts()\n",
    "        e.reset()\n",
    "        e.init_kebab()\n",
    "        print(e.facts)\n",
    "        if delfacts:\n",
    "            e.retract(numoffact)"
   ]
  },
  {
   "cell_type": "code",
   "execution_count": 7,
   "id": "4d1aa6b5",
   "metadata": {},
   "outputs": [
    {
     "ename": "KeyboardInterrupt",
     "evalue": "Interrupted by user",
     "output_type": "error",
     "traceback": [
      "\u001b[1;31m---------------------------------------------------------------------------\u001b[0m",
      "\u001b[1;31mKeyboardInterrupt\u001b[0m                         Traceback (most recent call last)",
      "\u001b[1;32m~\\AppData\\Local\\Temp/ipykernel_1112/119350029.py\u001b[0m in \u001b[0;36m<module>\u001b[1;34m\u001b[0m\n\u001b[1;32m----> 1\u001b[1;33m \u001b[0mengine\u001b[0m \u001b[1;33m=\u001b[0m \u001b[0mint\u001b[0m\u001b[1;33m(\u001b[0m\u001b[0minput\u001b[0m\u001b[1;33m(\u001b[0m\u001b[1;34mf'Engine:\\n1.\\tDefFacts\\n2.\\tAsserts\\t(50%\\tcomplete)\\nChoice:\\t{int}\\t-\\t'\u001b[0m\u001b[1;33m)\u001b[0m\u001b[1;33m)\u001b[0m\u001b[1;33m\u001b[0m\u001b[1;33m\u001b[0m\u001b[0m\n\u001b[0m\u001b[0;32m      2\u001b[0m \u001b[0mdelete\u001b[0m \u001b[1;33m=\u001b[0m \u001b[0mbool\u001b[0m\u001b[1;33m(\u001b[0m\u001b[0minput\u001b[0m\u001b[1;33m(\u001b[0m\u001b[1;34mf'Delete\\tFact:\\nEmpty.\\tNo\\n1.\\tYes\\nChoice:\\t{int}\\t-\\t'\u001b[0m\u001b[1;33m)\u001b[0m\u001b[1;33m)\u001b[0m\u001b[1;33m\u001b[0m\u001b[1;33m\u001b[0m\u001b[0m\n\u001b[0;32m      3\u001b[0m \u001b[0mmodify\u001b[0m \u001b[1;33m=\u001b[0m \u001b[0mbool\u001b[0m\u001b[1;33m(\u001b[0m\u001b[0minput\u001b[0m\u001b[1;33m(\u001b[0m\u001b[1;34mf'Modify:\\nEmpty.\\tNo\\n1.\\tYes\\nChoice:\\t{int}\\t-\\t'\u001b[0m\u001b[1;33m)\u001b[0m\u001b[1;33m)\u001b[0m\u001b[1;33m\u001b[0m\u001b[1;33m\u001b[0m\u001b[0m\n\u001b[0;32m      4\u001b[0m \u001b[0mclear\u001b[0m \u001b[1;33m=\u001b[0m \u001b[0mbool\u001b[0m\u001b[1;33m(\u001b[0m\u001b[0minput\u001b[0m\u001b[1;33m(\u001b[0m\u001b[1;34mf'Clear:\\nEmpty.\\tNo\\n1.\\tYes\\nChoice:\\t{int}\\t-\\t'\u001b[0m\u001b[1;33m)\u001b[0m\u001b[1;33m)\u001b[0m\u001b[1;33m\u001b[0m\u001b[1;33m\u001b[0m\u001b[0m\n\u001b[0;32m      5\u001b[0m \u001b[0mrules\u001b[0m \u001b[1;33m=\u001b[0m \u001b[0mbool\u001b[0m\u001b[1;33m(\u001b[0m\u001b[0minput\u001b[0m\u001b[1;33m(\u001b[0m\u001b[1;34mf'Rules:\\nEmpty.\\tNo\\n1.\\tYes\\nChoice:\\t{int}\\t-\\t'\u001b[0m\u001b[1;33m)\u001b[0m\u001b[1;33m)\u001b[0m\u001b[1;33m\u001b[0m\u001b[1;33m\u001b[0m\u001b[0m\n",
      "\u001b[1;32mC:\\ProgramData\\Anaconda3\\envs\\ExpertaSystem\\lib\\site-packages\\ipykernel\\kernelbase.py\u001b[0m in \u001b[0;36mraw_input\u001b[1;34m(self, prompt)\u001b[0m\n\u001b[0;32m   1004\u001b[0m                 \u001b[1;34m\"raw_input was called, but this frontend does not support input requests.\"\u001b[0m\u001b[1;33m\u001b[0m\u001b[1;33m\u001b[0m\u001b[0m\n\u001b[0;32m   1005\u001b[0m             )\n\u001b[1;32m-> 1006\u001b[1;33m         return self._input_request(\n\u001b[0m\u001b[0;32m   1007\u001b[0m             \u001b[0mstr\u001b[0m\u001b[1;33m(\u001b[0m\u001b[0mprompt\u001b[0m\u001b[1;33m)\u001b[0m\u001b[1;33m,\u001b[0m\u001b[1;33m\u001b[0m\u001b[1;33m\u001b[0m\u001b[0m\n\u001b[0;32m   1008\u001b[0m             \u001b[0mself\u001b[0m\u001b[1;33m.\u001b[0m\u001b[0m_parent_ident\u001b[0m\u001b[1;33m[\u001b[0m\u001b[1;34m\"shell\"\u001b[0m\u001b[1;33m]\u001b[0m\u001b[1;33m,\u001b[0m\u001b[1;33m\u001b[0m\u001b[1;33m\u001b[0m\u001b[0m\n",
      "\u001b[1;32mC:\\ProgramData\\Anaconda3\\envs\\ExpertaSystem\\lib\\site-packages\\ipykernel\\kernelbase.py\u001b[0m in \u001b[0;36m_input_request\u001b[1;34m(self, prompt, ident, parent, password)\u001b[0m\n\u001b[0;32m   1049\u001b[0m             \u001b[1;32mexcept\u001b[0m \u001b[0mKeyboardInterrupt\u001b[0m\u001b[1;33m:\u001b[0m\u001b[1;33m\u001b[0m\u001b[1;33m\u001b[0m\u001b[0m\n\u001b[0;32m   1050\u001b[0m                 \u001b[1;31m# re-raise KeyboardInterrupt, to truncate traceback\u001b[0m\u001b[1;33m\u001b[0m\u001b[1;33m\u001b[0m\u001b[1;33m\u001b[0m\u001b[0m\n\u001b[1;32m-> 1051\u001b[1;33m                 \u001b[1;32mraise\u001b[0m \u001b[0mKeyboardInterrupt\u001b[0m\u001b[1;33m(\u001b[0m\u001b[1;34m\"Interrupted by user\"\u001b[0m\u001b[1;33m)\u001b[0m \u001b[1;32mfrom\u001b[0m \u001b[1;32mNone\u001b[0m\u001b[1;33m\u001b[0m\u001b[1;33m\u001b[0m\u001b[0m\n\u001b[0m\u001b[0;32m   1052\u001b[0m             \u001b[1;32mexcept\u001b[0m \u001b[0mException\u001b[0m\u001b[1;33m:\u001b[0m\u001b[1;33m\u001b[0m\u001b[1;33m\u001b[0m\u001b[0m\n\u001b[0;32m   1053\u001b[0m                 \u001b[0mself\u001b[0m\u001b[1;33m.\u001b[0m\u001b[0mlog\u001b[0m\u001b[1;33m.\u001b[0m\u001b[0mwarning\u001b[0m\u001b[1;33m(\u001b[0m\u001b[1;34m\"Invalid Message:\"\u001b[0m\u001b[1;33m,\u001b[0m \u001b[0mexc_info\u001b[0m\u001b[1;33m=\u001b[0m\u001b[1;32mTrue\u001b[0m\u001b[1;33m)\u001b[0m\u001b[1;33m\u001b[0m\u001b[1;33m\u001b[0m\u001b[0m\n",
      "\u001b[1;31mKeyboardInterrupt\u001b[0m: Interrupted by user"
     ]
    }
   ],
   "source": [
    "engine = int(input(f'Engine:\\n1.\\tDefFacts\\n2.\\tAsserts\\t(50%\\tcomplete)\\nChoice:\\t{int}\\t-\\t'))\n",
    "delete = bool(input(f'Delete\\tFact:\\nEmpty.\\tNo\\n1.\\tYes\\nChoice:\\t{int}\\t-\\t'))\n",
    "modify = bool(input(f'Modify:\\nEmpty.\\tNo\\n1.\\tYes\\nChoice:\\t{int}\\t-\\t'))\n",
    "clear = bool(input(f'Clear:\\nEmpty.\\tNo\\n1.\\tYes\\nChoice:\\t{int}\\t-\\t'))\n",
    "rules = bool(input(f'Rules:\\nEmpty.\\tNo\\n1.\\tYes\\nChoice:\\t{int}\\t-\\t'))\n",
    "print(f'Engine:\\t{engine}\\nDelete:\\t{delete}\\nModify:\\t{modify}\\nClear:\\t{clear}\\nRules:\\t{rules}')\n",
    "if delete or modify or clear or rules:\n",
    "    numoffact = True\n",
    "    start(engine, modify=modify, numoffact=numoffact, delfacts=delete, clear=clear, rules=rules)"
   ]
  },
  {
   "cell_type": "code",
   "execution_count": null,
   "id": "4d1d1da0",
   "metadata": {},
   "outputs": [],
   "source": []
  }
 ],
 "metadata": {
  "kernelspec": {
   "display_name": "Python 3",
   "language": "python",
   "name": "python3"
  },
  "language_info": {
   "codemirror_mode": {
    "name": "ipython",
    "version": 3
   },
   "file_extension": ".py",
   "mimetype": "text/x-python",
   "name": "python",
   "nbconvert_exporter": "python",
   "pygments_lexer": "ipython3",
   "version": "3.8.8"
  }
 },
 "nbformat": 4,
 "nbformat_minor": 5
}
