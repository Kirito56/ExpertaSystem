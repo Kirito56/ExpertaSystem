{
 "cells": [
  {
   "cell_type": "code",
   "execution_count": 1,
   "id": "00eb97d9",
   "metadata": {},
   "outputs": [],
   "source": [
    "from experta import (KnowledgeEngine, Field, Fact, Rule, DefFacts,\n",
    "                     L, P, AS, OR, AND, EXISTS, NOT, FORALL)"
   ]
  },
  {
   "cell_type": "code",
   "execution_count": null,
   "id": "f69543e1",
   "metadata": {},
   "outputs": [],
   "source": []
  }
 ],
 "metadata": {
  "kernelspec": {
   "display_name": "Python 3 (ipykernel)",
   "language": "python",
   "name": "python3"
  },
  "language_info": {
   "codemirror_mode": {
    "name": "ipython",
    "version": 3
   },
   "file_extension": ".py",
   "mimetype": "text/x-python",
   "name": "python",
   "nbconvert_exporter": "python",
   "pygments_lexer": "ipython3",
   "version": "3.8.12"
  }
 },
 "nbformat": 4,
 "nbformat_minor": 5
}
