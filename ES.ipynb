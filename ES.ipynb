{
 "cells": [
  {
   "cell_type": "code",
   "execution_count": 11,
   "id": "e32a7341",
   "metadata": {},
   "outputs": [
    {
     "name": "stdout",
     "output_type": "stream",
     "text": [
      "0.9\n"
     ]
    }
   ],
   "source": [
    "from core.ES import Kebab, __version__\n",
    "print(__version__)"
   ]
  },
  {
   "cell_type": "code",
   "execution_count": 12,
   "id": "77b2aa4c",
   "metadata": {},
   "outputs": [
    {
     "name": "stdout",
     "output_type": "stream",
     "text": [
      "Deffact: v1.9.4\n",
      "Kebab Model: v0.9\n",
      "Rules Model: v0.9\n",
      "Config: v0.9\n"
     ]
    }
   ],
   "source": [
    "from core.DefFact import DefFact, __version__ as DVersin\n",
    "from models.Kebab import Kebab as MKebab, Model, __version__ as KVersion\n",
    "from models.Rules import Rules as MRules, Model as RModel, __version__ as RVersion\n",
    "from core.config import db, __version__ as CVersion\n",
    "print(f'Deffact: v{DVersin}')\n",
    "print(f'Kebab Model: v{KVersion}')\n",
    "print(f'Rules Model: v{RVersion}')\n",
    "print(f'Config: v{CVersion}')"
   ]
  },
  {
   "cell_type": "code",
   "execution_count": 13,
   "id": "94bcb72a",
   "metadata": {},
   "outputs": [],
   "source": [
    "from core.Asserts import Asserts"
   ]
  },
  {
   "cell_type": "code",
   "execution_count": 14,
   "id": "944dd6ee",
   "metadata": {},
   "outputs": [],
   "source": [
    "def start(engine: int,\n",
    "          delfacts: bool = False,\n",
    "          numoffact: bool = False,\n",
    "          modify: bool = False,\n",
    "          clear: bool = False,\n",
    "          rules: bool = False):\n",
    "    if engine == 1:\n",
    "        e = DefFact()\n",
    "        e.reset()\n",
    "        e.init_kebab()\n",
    "        if delfacts and numoffact:\n",
    "            num = int(input('Виберіть вакт для видалення: '))\n",
    "            import os\n",
    "            os.remove(f'{os.getcwd()}/ES/ES{num}.json')\n",
    "            e.retract(num)\n",
    "        elif modify and numoffact:\n",
    "            num = int(input('Виберіть факт щоб змінити на випадкове значення: '))\n",
    "            import random\n",
    "            Type=random.choice(['Свинина', 'Курка', 'Страусятина', 'Кенгурятина'])\n",
    "            Action=random.choice(['Чекати', 'Перевернути', 'Забрати'])\n",
    "            DegreeOfRoastiness=random.choice(['Сире', 'Починає піджарюватись', 'Піджарилось', 'Приговлений', 'Згорівший'])\n",
    "            AlreadyTurnedOver=random.choice([True, False])\n",
    "            PartyReady=random.choice([True, False])\n",
    "            DoneOnOneSide=random.choice([True, False])\n",
    "            DoneOnBothSides=random.choice([True, False])\n",
    "            BothSideReady=random.choice([True, False])\n",
    "            Time=random.randint(0, 30)\n",
    "            DoneAToTheMajority=random.choice([True, False])\n",
    "            NumberOfPeople=random.choice([[\"Іра\", \"Яна\", \"Влада\"], \n",
    "                        [\"Володя\", \"Женя\", \"Влад\"], [\"Ярослав\", \"Вадім\", \"Олесь\"]])\n",
    "            e.declare(e.modify(e.facts[num], Type=Type,\n",
    "                                Action=Action,\n",
    "                                DegreeOfRoastiness=DegreeOfRoastiness,\n",
    "                                AlreadyTurnedOver=AlreadyTurnedOver,\n",
    "                                PartyReady=PartyReady,\n",
    "                                DoneOnOneSide=DoneOnOneSide,\n",
    "                                DoneOnBothSides=DoneOnBothSides, \n",
    "                                BothSideReady=BothSideReady, Time=Time, DoneAToTheMajority=DoneAToTheMajority,\n",
    "                                NumberOfPeople=NumberOfPeople))\n",
    "            raw = dict(\n",
    "                Type=Type,\n",
    "                Action=Action,\n",
    "                DegreeOfRoastiness=DegreeOfRoastiness,\n",
    "                AlreadyTurnedOver=AlreadyTurnedOver,\n",
    "                PartyReady=PartyReady,\n",
    "                DoneOnOneSide=DoneOnOneSide,\n",
    "                DoneOnBothSides=DoneOnBothSides, \n",
    "                BothSideReady=BothSideReady, Time=Time, DoneAToTheMajority=DoneAToTheMajority,\n",
    "                NumberOfPeople=MKebab.list_to_str(NumberOfPeople)\n",
    "            )\n",
    "            MKebab.upd_by_id(num, raw)\n",
    "        elif modify and numoffact and rules:\n",
    "            num = int(input('Виберіть факт щоб змінити на випадкове значення: '))\n",
    "            import random\n",
    "            Type=random.choice(['Свинина', 'Курка', 'Страусятина', 'Кенгурятина'])\n",
    "            Action=random.choice(['Чекати', 'Перевернути', 'Забрати'])\n",
    "            DegreeOfRoastiness=random.choice(['Сире', 'Починає піджарюватись', 'Піджарилось', 'Приговлений', 'Згорівший'])\n",
    "            AlreadyTurnedOver=random.choice([True, False])\n",
    "            PartyReady=random.choice([True, False])\n",
    "            DoneOnOneSide=random.choice([True, False])\n",
    "            DoneOnBothSides=random.choice([True, False])\n",
    "            BothSideReady=random.choice([True, False])\n",
    "            Time=random.randint(0, 30)\n",
    "            DoneAToTheMajority=random.choice([True, False])\n",
    "            NumberOfPeople=random.choice([[\"Іра\", \"Яна\", \"Влада\"], \n",
    "                        [\"Володя\", \"Женя\", \"Влад\"], [\"Ярослав\", \"Вадім\", \"Олесь\"]])\n",
    "            e.declare(e.modify(e.facts[num], Type=Type,\n",
    "                                Action=Action,\n",
    "                                DegreeOfRoastiness=DegreeOfRoastiness,\n",
    "                                AlreadyTurnedOver=AlreadyTurnedOver,\n",
    "                                PartyReady=PartyReady,\n",
    "                                DoneOnOneSide=DoneOnOneSide,\n",
    "                                DoneOnBothSides=DoneOnBothSides, \n",
    "                                BothSideReady=BothSideReady, Time=Time, DoneAToTheMajority=DoneAToTheMajority,\n",
    "                                NumberOfPeople=NumberOfPeople))\n",
    "            \n",
    "            e.run()\n",
    "        elif clear:\n",
    "            e.facts.clear()\n",
    "        elif rules:\n",
    "            e.run()\n",
    "            e.avarage(0, 30)\n",
    "            e.avarage3(0, 10, 30)\n",
    "    elif engine == 2:\n",
    "        e = Asserts()\n",
    "        e.reset()\n",
    "        e.init_kebab()\n",
    "        if delfacts and numoffact:\n",
    "            num = int(input('Виберіть вакт для видалення: '))\n",
    "            import pathlib, os\n",
    "            os.remove(f'{os.getcwd()}/ES/ES{num}.json')\n",
    "            e.retract(num)\n",
    "        elif modify and numoffact:\n",
    "            num = int(input('Виберіть факт щоб змінити на випадкове значення: '))\n",
    "            import random\n",
    "            Type=random.choice(['Свинина', 'Курка', 'Страусятина', 'Кенгурятина'])\n",
    "            Action=random.choice(['Чекати', 'Перевернути', 'Забрати'])\n",
    "            DegreeOfRoastiness=random.choice(['Сире', 'Починає піджарюватись', 'Піджарилось', 'Приговлений', 'Згорівший'])\n",
    "            AlreadyTurnedOver=random.choice([True, False])\n",
    "            PartyReady=random.choice([True, False])\n",
    "            DoneOnOneSide=random.choice([True, False])\n",
    "            DoneOnBothSides=random.choice([True, False])\n",
    "            BothSideReady=random.choice([True, False])\n",
    "            Time=random.randint(0, 30)\n",
    "            DoneAToTheMajority=random.choice([True, False])\n",
    "            NumberOfPeople=random.choice([[\"Іра\", \"Яна\", \"Влада\"], \n",
    "                        [\"Володя\", \"Женя\", \"Влад\"], [\"Ярослав\", \"Вадім\", \"Олесь\"]])\n",
    "            e.declare(e.modify(e.facts[num], Type=Type,\n",
    "                                Action=Action,\n",
    "                                DegreeOfRoastiness=DegreeOfRoastiness,\n",
    "                                AlreadyTurnedOver=AlreadyTurnedOver,\n",
    "                                PartyReady=PartyReady,\n",
    "                                DoneOnOneSide=DoneOnOneSide,\n",
    "                                DoneOnBothSides=DoneOnBothSides, \n",
    "                                BothSideReady=BothSideReady, Time=Time, DoneAToTheMajority=DoneAToTheMajority,\n",
    "                                NumberOfPeople=NumberOfPeople))\n",
    "            Kebab.write_to_file(num,Type,Action,DegreeOfRoastiness,AlreadyTurnedOver,PartyReady,DoneOnOneSide,\n",
    "            DoneOnBothSides, BothSideReady, Time, DoneAToTheMajority, NumberOfPeople)\n",
    "        elif modify and numoffact and rules:\n",
    "            num = int(input('Виберіть факт щоб змінити на випадкове значення: '))\n",
    "            import random\n",
    "            Type=random.choice(['Свинина', 'Курка', 'Страусятина', 'Кенгурятина'])\n",
    "            Action=random.choice(['Чекати', 'Перевернути', 'Забрати'])\n",
    "            DegreeOfRoastiness=random.choice(['Сире', 'Починає піджарюватись', 'Піджарилось', 'Приговлений', 'Згорівший'])\n",
    "            AlreadyTurnedOver=random.choice([True, False])\n",
    "            PartyReady=random.choice([True, False])\n",
    "            DoneOnOneSide=random.choice([True, False])\n",
    "            DoneOnBothSides=random.choice([True, False])\n",
    "            BothSideReady=random.choice([True, False])\n",
    "            Time=random.randint(0, 30)\n",
    "            DoneAToTheMajority=random.choice([True, False])\n",
    "            NumberOfPeople=random.choice([[\"Іра\", \"Яна\", \"Влада\"], \n",
    "                        [\"Володя\", \"Женя\", \"Влад\"], [\"Ярослав\", \"Вадім\", \"Олесь\"]])\n",
    "            e.declare(e.modify(e.facts[num], Type=Type,\n",
    "                                Action=Action,\n",
    "                                DegreeOfRoastiness=DegreeOfRoastiness,\n",
    "                                AlreadyTurnedOver=AlreadyTurnedOver,\n",
    "                                PartyReady=PartyReady,\n",
    "                                DoneOnOneSide=DoneOnOneSide,\n",
    "                                DoneOnBothSides=DoneOnBothSides, \n",
    "                                BothSideReady=BothSideReady, Time=Time, DoneAToTheMajority=DoneAToTheMajority,\n",
    "                                NumberOfPeople=NumberOfPeople))\n",
    "            Kebab.write_to_file(num,Type,Action,DegreeOfRoastiness,AlreadyTurnedOver,PartyReady,DoneOnOneSide,\n",
    "            DoneOnBothSides, BothSideReady, Time, DoneAToTheMajority, NumberOfPeople)\n",
    "            e.run()\n",
    "        elif clear:\n",
    "            e.facts.clear()\n",
    "        elif rules:\n",
    "            e.run()\n",
    "            e.avarage(0, 30)\n",
    "            e.avarage3(0, 10, 30)"
   ]
  },
  {
   "cell_type": "code",
   "execution_count": 15,
   "id": "4d1aa6b5",
   "metadata": {},
   "outputs": [
    {
     "name": "stdout",
     "output_type": "stream",
     "text": [
      "Engine:\t1\n",
      "Видалення:\tFalse\n",
      "Редагування:\tFalse\n",
      "Очищення:\tFalse\n",
      "Правила:\tTrue\n",
      "15.0\n",
      "13.333333333333334\n"
     ]
    }
   ],
   "source": [
    "if __name__ == \"__main__\":\n",
    "    engine = int(input(f'Engine:\\n1.\\tDefFacts\\n2.\\tAsserts\\nВаш вибір:\\t{int}\\t-\\t'))\n",
    "    delete = bool(input(f'Delete\\tFact:\\nEmpty.\\tNo\\n1.\\tYes\\nВаш вибір:\\t{int}\\t-\\t'))\n",
    "    modify = bool(input(f'Modify:\\nEmpty.\\tNo\\n1.\\tYes\\nВаш вибір:\\t{int}\\t-\\t'))\n",
    "    clear = bool(input(f'Clear:\\nEmpty.\\tNo\\n1.\\tYes\\nВаш вибір:\\t{int}\\t-\\t'))\n",
    "    rules = bool(input(f'Rules:\\nEmpty.\\tNo\\n1.\\tYes\\nВаш вибір:\\t{int}\\t-\\t'))\n",
    "    table = bool(input(f'DataBase:\\nEmpty.\\tCreate\\n1.\\tReWrite\\nВаш вибір:\\t{int}\\t-\\t'))\n",
    "    if table:\n",
    "        Model.metadata.drop_all(db)\n",
    "        RModel.metadata.drop_all(db)\n",
    "        Model.metadata.create_all(db)\n",
    "        RModel.metadata.create_all(db)\n",
    "    else:\n",
    "        Model.metadata.create_all(db)\n",
    "        RModel.metadata.create_all(db)\n",
    "    print(f'Engine:\\t{engine}\\nВидалення:\\t{delete}\\nРедагування:\\t{modify}\\nОчищення:\\t{clear}\\nПравила:\\t{rules}')\n",
    "    if delete or modify or clear or rules:\n",
    "        numoffact = True\n",
    "        start(engine, modify=modify, numoffact=numoffact, delfacts=delete, clear=clear, rules=rules)"
   ]
  },
  {
   "cell_type": "code",
   "execution_count": 18,
   "id": "4d1d1da0",
   "metadata": {},
   "outputs": [
    {
     "ename": "TypeError",
     "evalue": "write() argument must be str, not dict",
     "output_type": "error",
     "traceback": [
      "\u001b[1;31m---------------------------------------------------------------------------\u001b[0m",
      "\u001b[1;31mTypeError\u001b[0m                                 Traceback (most recent call last)",
      "\u001b[1;32m~\\AppData\\Local\\Temp/ipykernel_15124/915366134.py\u001b[0m in \u001b[0;36m<module>\u001b[1;34m\u001b[0m\n\u001b[0;32m      2\u001b[0m \u001b[0mMKebab\u001b[0m\u001b[1;33m.\u001b[0m\u001b[0mto_dict_list\u001b[0m\u001b[1;33m(\u001b[0m\u001b[0mkebab\u001b[0m\u001b[1;33m)\u001b[0m\u001b[1;33m\u001b[0m\u001b[1;33m\u001b[0m\u001b[0m\n\u001b[0;32m      3\u001b[0m \u001b[0mrules\u001b[0m \u001b[1;33m=\u001b[0m \u001b[0mMRules\u001b[0m\u001b[1;33m.\u001b[0m\u001b[0mget_list\u001b[0m\u001b[1;33m(\u001b[0m\u001b[1;33m)\u001b[0m\u001b[1;33m\u001b[0m\u001b[1;33m\u001b[0m\u001b[0m\n\u001b[1;32m----> 4\u001b[1;33m \u001b[0mKebab\u001b[0m\u001b[1;33m.\u001b[0m\u001b[0mto_json\u001b[0m\u001b[1;33m(\u001b[0m\u001b[0mMKebab\u001b[0m\u001b[1;33m.\u001b[0m\u001b[0mto_dict_list\u001b[0m\u001b[1;33m(\u001b[0m\u001b[0mkebab\u001b[0m\u001b[1;33m)\u001b[0m\u001b[1;33m,\u001b[0m \u001b[0mMRules\u001b[0m\u001b[1;33m.\u001b[0m\u001b[0mto_dict_list\u001b[0m\u001b[1;33m(\u001b[0m\u001b[0mrules\u001b[0m\u001b[1;33m)\u001b[0m\u001b[1;33m)\u001b[0m\u001b[1;33m\u001b[0m\u001b[1;33m\u001b[0m\u001b[0m\n\u001b[0m",
      "\u001b[1;32mc:\\Users\\Solus\\GIT\\core\\ES.py\u001b[0m in \u001b[0;36mto_json\u001b[1;34m(data, i)\u001b[0m\n\u001b[0;32m     42\u001b[0m                         \u001b[0mrules\u001b[0m\u001b[1;33m=\u001b[0m\u001b[0mrules\u001b[0m\u001b[1;33m\u001b[0m\u001b[1;33m\u001b[0m\u001b[0m\n\u001b[0;32m     43\u001b[0m                     )\n\u001b[1;32m---> 44\u001b[1;33m                     \u001b[1;32mreturn\u001b[0m \u001b[0mout\u001b[0m\u001b[1;33m\u001b[0m\u001b[1;33m\u001b[0m\u001b[0m\n\u001b[0m\u001b[0;32m     45\u001b[0m                 \u001b[0mjson\u001b[0m\u001b[1;33m.\u001b[0m\u001b[0mwrite\u001b[0m\u001b[1;33m(\u001b[0m\u001b[1;34mf'{to_dict()}'\u001b[0m\u001b[1;33m)\u001b[0m\u001b[1;33m\u001b[0m\u001b[1;33m\u001b[0m\u001b[0m\n\u001b[0;32m     46\u001b[0m         \u001b[1;32melse\u001b[0m\u001b[1;33m:\u001b[0m\u001b[1;33m\u001b[0m\u001b[1;33m\u001b[0m\u001b[0m\n",
      "\u001b[1;31mTypeError\u001b[0m: write() argument must be str, not dict"
     ]
    }
   ],
   "source": [
    "kebab = MKebab.get_list()\n",
    "MKebab.to_dict_list(kebab)\n",
    "rules = MRules.get_list()\n",
    "Kebab.to_json(MKebab.to_dict_list(kebab), MRules.to_dict_list(rules))"
   ]
  },
  {
   "cell_type": "code",
   "execution_count": null,
   "id": "0bd53d4b",
   "metadata": {},
   "outputs": [],
   "source": []
  }
 ],
 "metadata": {
  "kernelspec": {
   "display_name": "Python 3",
   "language": "python",
   "name": "python3"
  },
  "language_info": {
   "codemirror_mode": {
    "name": "ipython",
    "version": 3
   },
   "file_extension": ".py",
   "mimetype": "text/x-python",
   "name": "python",
   "nbconvert_exporter": "python",
   "pygments_lexer": "ipython3",
   "version": "3.8.0"
  }
 },
 "nbformat": 4,
 "nbformat_minor": 5
}
