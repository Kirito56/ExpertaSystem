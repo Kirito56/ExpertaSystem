{
 "cells": [
  {
   "cell_type": "code",
   "execution_count": 6,
   "id": "e32a7341",
   "metadata": {},
   "outputs": [],
   "source": [
    "from ES import Kebab"
   ]
  },
  {
   "cell_type": "code",
   "execution_count": 7,
   "id": "77b2aa4c",
   "metadata": {},
   "outputs": [],
   "source": [
    "from DefFact import DefFact"
   ]
  },
  {
   "cell_type": "code",
   "execution_count": 8,
   "id": "94bcb72a",
   "metadata": {},
   "outputs": [],
   "source": [
    "from Asserts import Asserts"
   ]
  },
  {
   "cell_type": "code",
   "execution_count": 9,
   "id": "944dd6ee",
   "metadata": {},
   "outputs": [],
   "source": [
    "def start(engine: int,\n",
    "          delfacts: bool = False,\n",
    "          numoffact: bool = False,\n",
    "          modify: bool = False,\n",
    "          clear: bool = False,\n",
    "          rules: bool = False):\n",
    "    if engine == 1:\n",
    "        e = DefFact()\n",
    "        e.reset()\n",
    "        e.init_kebab()\n",
    "        print(e.facts)\n",
    "        if delfacts and numoffact:\n",
    "            num = int(input('Fact Number: '))\n",
    "            e.retract(numoffact)\n",
    "        elif modify and numoffact:\n",
    "            num = int(input('Fact Number: '))\n",
    "            Type = str(input(f'Type\\tof\\tmeat:\\n1.\\tPork\\t2.\\tOstrich\\t3.\\tKangaroo\\t4.\\tChicken\\nChoice:\\t{str}\\t-\\t'))\n",
    "            Action = str(input(f'Action:\\n1.\\tWait\\t2.\\tRotate\\t3.\\tTake\\nChoice:\\t{str}\\t-\\t'))\n",
    "            DegreeOfRoastiness = int(input(f'Degree\\tOf\\tRoastiness:\\n1.\\tRoasted\\t'\n",
    "                                           f'2.\\tCheese\\t3.\\tStarted\\tRoasted\\t4.\\tBurned\\nChoice:\\t{int}\\t-\\t'))\n",
    "            AlreadyTurnedOver = bool(input(f'Already\\tTurned\\tOver:\\nEmpty.\\tNo\\t1.\\tYes\\nChoice:\\t{bool}\\t-\\t'))\n",
    "            args = dict(Type=Type, Action=Action, DegreeOfRoastiness=DegreeOfRoastiness,\n",
    "                        AlreadyTurnedOver=AlreadyTurnedOver)\n",
    "            e.declare(e.modify(e.facts[num], Type=args.get('Type'), Action=args.get('Action'),\n",
    "                               DegreeOfRoastiness=args.get('DegreeOfRoastiness'),\n",
    "                               AlreadyTurnedOver=args.get('AlreadyTurnedOver')))\n",
    "            print(e.facts)\n",
    "        elif modify and numoffact and rules:\n",
    "            num = int(input('Fact Number: '))\n",
    "            Type = str(input(f'Type\\tof\\tmeat:\\n1.\\tPork\\t2.\\tOstrich\\t3.\\tKangaroo\\t4.\\tChicken\\nChoice:\\t{str}\\t-\\t'))\n",
    "            Action = str(input(f'Action:\\n1.\\tWait\\t2.\\tRotate\\t3.\\tTake\\nChoice:\\t{str}\\t-\\t'))\n",
    "            DegreeOfRoastiness = int(input(f'Degree\\tOf\\tRoastiness:\\n1.\\tRoasted\\t'\n",
    "                                           f'2.\\tCheese\\t3.\\tStarted\\tRoasted\\t4.\\tBurned\\nChoice:\\t{int}\\t-\\t'))\n",
    "            AlreadyTurnedOver = bool(input(f'Already\\tTurned\\tOver:\\nEmpty.\\tNo\\t1.\\tYes\\nChoice:\\t{bool}\\t-\\t'))\n",
    "            args = dict(Type=Type, Action=Action, DegreeOfRoastiness=DegreeOfRoastiness,\n",
    "                        AlreadyTurnedOver=AlreadyTurnedOver)\n",
    "            e.declare(e.modify(e.facts[num], Type=args.get('Type'), Action=args.get('Action'),\n",
    "                               DegreeOfRoastiness=args.get('DegreeOfRoastiness'),\n",
    "                               AlreadyTurnedOver=args.get('AlreadyTurnedOver')))\n",
    "            print(e.facts)\n",
    "            e.run()\n",
    "        elif clear:\n",
    "            e.facts.clear()\n",
    "        elif rules:\n",
    "            e.run()\n",
    "            print(e.facts)\n",
    "    elif engine == 2:\n",
    "        e = Asserts()\n",
    "        e.reset()\n",
    "        e.init_kebab()\n",
    "        print(e.facts)\n",
    "        if delfacts:\n",
    "            e.retract(numoffact)"
   ]
  },
  {
   "cell_type": "code",
   "execution_count": 10,
   "id": "4d1aa6b5",
   "metadata": {},
   "outputs": [
    {
     "name": "stdout",
     "output_type": "stream",
     "text": [
      "Engine:\n",
      "1.\tDefFacts\n",
      "2.\tAsserts\t(50%\tcomplete)\n",
      "Choice:\t<class 'int'>\t-\t1\n",
      "Delete\tFact:\n",
      "Empty.\tNo\n",
      "1.\tYes\n",
      "Choice:\t<class 'int'>\t-\t\n",
      "Modify:\n",
      "Empty.\tNo\n",
      "1.\tYes\n",
      "Choice:\t<class 'int'>\t-\t\n",
      "Clear:\n",
      "Empty.\tNo\n",
      "1.\tYes\n",
      "Choice:\t<class 'int'>\t-\t\n",
      "Rules:\n",
      "Empty.\tNo\n",
      "1.\tYes\n",
      "Choice:\t<class 'int'>\t-\t1\n",
      "Engine:\t1\n",
      "Delete:\tFalse\n",
      "Modify:\tFalse\n",
      "Clear:\tFalse\n",
      "Rules:\tTrue\n",
      "<f-0>: InitialFact()\n",
      "<f-1>: Kebab(Type='Pork', Action='Wait', DegreeOfRoastiness=2, AlreadyTurnedOver=False, PartyReady=True, DoneOnOneSide=True, DoneOnBothSides=False, BothSideReady=False, Time=15, DoneAToTheMajority=False, NumberOfPeople=2)\n",
      "<f-2>: Kebab(Type='Ostrich', Action='Wait', DegreeOfRoastiness=2, AlreadyTurnedOver=False, PartyReady=True, DoneOnOneSide=True, DoneOnBothSides=False, BothSideReady=False, Time=10, DoneAToTheMajority=False, NumberOfPeople=2)\n",
      "<f-3>: Kebab(Type='Kangaroo', Action='Wait', DegreeOfRoastiness=2, AlreadyTurnedOver=False, PartyReady=True, DoneOnOneSide=True, DoneOnBothSides=False, BothSideReady=False, Time=10, DoneAToTheMajority=False, NumberOfPeople=2)\n",
      "<f-4>: Kebab(Type='Kangaroo', Action='Wait', DegreeOfRoastiness=2, AlreadyTurnedOver=False, PartyReady=True, DoneOnOneSide=True, DoneOnBothSides=False, BothSideReady=False, Time=15, DoneAToTheMajority=False, NumberOfPeople=2)\n",
      "<f-5>: Kebab(Type='Chicken', Action='Wait', DegreeOfRoastiness=2, AlreadyTurnedOver=False, PartyReady=True, DoneOnOneSide=True, DoneOnBothSides=False, BothSideReady=False, Time=10, DoneAToTheMajority=False, NumberOfPeople=2)\n",
      "<f-6>: Kebab(Type='Chicken', Action='Wait', DegreeOfRoastiness=2, AlreadyTurnedOver=False, PartyReady=True, DoneOnOneSide=True, DoneOnBothSides=False, BothSideReady=False, Time=15, DoneAToTheMajority=False, NumberOfPeople=2)\n",
      "Found\n",
      "Found\n"
     ]
    },
    {
     "ename": "KeyError",
     "evalue": "1",
     "output_type": "error",
     "traceback": [
      "\u001b[1;31m---------------------------------------------------------------------------\u001b[0m",
      "\u001b[1;31mKeyError\u001b[0m                                  Traceback (most recent call last)",
      "\u001b[1;32m<ipython-input-10-42b2fdd243e0>\u001b[0m in \u001b[0;36m<module>\u001b[1;34m\u001b[0m\n\u001b[0;32m      7\u001b[0m \u001b[1;32mif\u001b[0m \u001b[0mdelete\u001b[0m \u001b[1;32mor\u001b[0m \u001b[0mmodify\u001b[0m \u001b[1;32mor\u001b[0m \u001b[0mclear\u001b[0m \u001b[1;32mor\u001b[0m \u001b[0mrules\u001b[0m\u001b[1;33m:\u001b[0m\u001b[1;33m\u001b[0m\u001b[1;33m\u001b[0m\u001b[0m\n\u001b[0;32m      8\u001b[0m     \u001b[0mnumoffact\u001b[0m \u001b[1;33m=\u001b[0m \u001b[1;32mTrue\u001b[0m\u001b[1;33m\u001b[0m\u001b[1;33m\u001b[0m\u001b[0m\n\u001b[1;32m----> 9\u001b[1;33m     \u001b[0mstart\u001b[0m\u001b[1;33m(\u001b[0m\u001b[0mengine\u001b[0m\u001b[1;33m,\u001b[0m \u001b[0mmodify\u001b[0m\u001b[1;33m=\u001b[0m\u001b[0mmodify\u001b[0m\u001b[1;33m,\u001b[0m \u001b[0mnumoffact\u001b[0m\u001b[1;33m=\u001b[0m\u001b[0mnumoffact\u001b[0m\u001b[1;33m,\u001b[0m \u001b[0mdelfacts\u001b[0m\u001b[1;33m=\u001b[0m\u001b[0mdelete\u001b[0m\u001b[1;33m,\u001b[0m \u001b[0mclear\u001b[0m\u001b[1;33m=\u001b[0m\u001b[0mclear\u001b[0m\u001b[1;33m,\u001b[0m \u001b[0mrules\u001b[0m\u001b[1;33m=\u001b[0m\u001b[0mrules\u001b[0m\u001b[1;33m)\u001b[0m\u001b[1;33m\u001b[0m\u001b[1;33m\u001b[0m\u001b[0m\n\u001b[0m",
      "\u001b[1;32m<ipython-input-9-df2cb1f07698>\u001b[0m in \u001b[0;36mstart\u001b[1;34m(engine, delfacts, numoffact, modify, clear, rules)\u001b[0m\n\u001b[0;32m     43\u001b[0m             \u001b[0me\u001b[0m\u001b[1;33m.\u001b[0m\u001b[0mfacts\u001b[0m\u001b[1;33m.\u001b[0m\u001b[0mclear\u001b[0m\u001b[1;33m(\u001b[0m\u001b[1;33m)\u001b[0m\u001b[1;33m\u001b[0m\u001b[1;33m\u001b[0m\u001b[0m\n\u001b[0;32m     44\u001b[0m         \u001b[1;32melif\u001b[0m \u001b[0mrules\u001b[0m\u001b[1;33m:\u001b[0m\u001b[1;33m\u001b[0m\u001b[1;33m\u001b[0m\u001b[0m\n\u001b[1;32m---> 45\u001b[1;33m             \u001b[0me\u001b[0m\u001b[1;33m.\u001b[0m\u001b[0mrun\u001b[0m\u001b[1;33m(\u001b[0m\u001b[1;33m)\u001b[0m\u001b[1;33m\u001b[0m\u001b[1;33m\u001b[0m\u001b[0m\n\u001b[0m\u001b[0;32m     46\u001b[0m             \u001b[0mprint\u001b[0m\u001b[1;33m(\u001b[0m\u001b[0me\u001b[0m\u001b[1;33m.\u001b[0m\u001b[0mfacts\u001b[0m\u001b[1;33m)\u001b[0m\u001b[1;33m\u001b[0m\u001b[1;33m\u001b[0m\u001b[0m\n\u001b[0;32m     47\u001b[0m     \u001b[1;32melif\u001b[0m \u001b[0mengine\u001b[0m \u001b[1;33m==\u001b[0m \u001b[1;36m2\u001b[0m\u001b[1;33m:\u001b[0m\u001b[1;33m\u001b[0m\u001b[1;33m\u001b[0m\u001b[0m\n",
      "\u001b[1;32m~\\GIT\\experta\\engine.py\u001b[0m in \u001b[0;36mrun\u001b[1;34m(self, steps)\u001b[0m\n\u001b[0;32m    163\u001b[0m                     \", \".join(str(f) for f in activation.facts))\n\u001b[0;32m    164\u001b[0m \u001b[1;33m\u001b[0m\u001b[0m\n\u001b[1;32m--> 165\u001b[1;33m                 activation.rule(\n\u001b[0m\u001b[0;32m    166\u001b[0m                     \u001b[0mself\u001b[0m\u001b[1;33m,\u001b[0m\u001b[1;33m\u001b[0m\u001b[1;33m\u001b[0m\u001b[0m\n\u001b[0;32m    167\u001b[0m                     **{k: v\n",
      "\u001b[1;32m~\\GIT\\experta\\rule.py\u001b[0m in \u001b[0;36m__call__\u001b[1;34m(self, *args, **kwargs)\u001b[0m\n\u001b[0;32m     85\u001b[0m                           if k in self._wrapped_args}\n\u001b[0;32m     86\u001b[0m             \u001b[1;32mif\u001b[0m \u001b[0mself\u001b[0m\u001b[1;33m.\u001b[0m\u001b[0m_wrapped_self\u001b[0m \u001b[1;32mis\u001b[0m \u001b[1;32mNone\u001b[0m\u001b[1;33m:\u001b[0m\u001b[1;33m\u001b[0m\u001b[1;33m\u001b[0m\u001b[0m\n\u001b[1;32m---> 87\u001b[1;33m                 \u001b[1;32mreturn\u001b[0m \u001b[0mself\u001b[0m\u001b[1;33m.\u001b[0m\u001b[0m_wrapped\u001b[0m\u001b[1;33m(\u001b[0m\u001b[1;33m*\u001b[0m\u001b[0margs\u001b[0m\u001b[1;33m,\u001b[0m \u001b[1;33m**\u001b[0m\u001b[0mkwargs\u001b[0m\u001b[1;33m)\u001b[0m\u001b[1;33m\u001b[0m\u001b[1;33m\u001b[0m\u001b[0m\n\u001b[0m\u001b[0;32m     88\u001b[0m             \u001b[1;32melse\u001b[0m\u001b[1;33m:\u001b[0m\u001b[1;33m\u001b[0m\u001b[1;33m\u001b[0m\u001b[0m\n\u001b[0;32m     89\u001b[0m                 \u001b[1;32mreturn\u001b[0m \u001b[0mself\u001b[0m\u001b[1;33m.\u001b[0m\u001b[0m_wrapped\u001b[0m\u001b[1;33m(\u001b[0m\u001b[0mself\u001b[0m\u001b[1;33m.\u001b[0m\u001b[0m_wrapped_self\u001b[0m\u001b[1;33m,\u001b[0m \u001b[1;33m*\u001b[0m\u001b[0margs\u001b[0m\u001b[1;33m,\u001b[0m \u001b[1;33m**\u001b[0m\u001b[0mkwargs\u001b[0m\u001b[1;33m)\u001b[0m\u001b[1;33m\u001b[0m\u001b[1;33m\u001b[0m\u001b[0m\n",
      "\u001b[1;32m~\\GIT\\DefFact.py\u001b[0m in \u001b[0;36mChickenLongFried\u001b[1;34m(self)\u001b[0m\n\u001b[0;32m     95\u001b[0m         \u001b[1;33m:\u001b[0m\u001b[0mrtype\u001b[0m\u001b[1;33m:\u001b[0m \u001b[0mstr\u001b[0m\u001b[1;33m\u001b[0m\u001b[1;33m\u001b[0m\u001b[0m\n\u001b[0;32m     96\u001b[0m         \"\"\"\n\u001b[1;32m---> 97\u001b[1;33m         \u001b[1;32mreturn\u001b[0m \u001b[0mself\u001b[0m\u001b[1;33m.\u001b[0m\u001b[0mdeclare\u001b[0m\u001b[1;33m(\u001b[0m\u001b[0mself\u001b[0m\u001b[1;33m.\u001b[0m\u001b[0mmodify\u001b[0m\u001b[1;33m(\u001b[0m\u001b[0mself\u001b[0m\u001b[1;33m.\u001b[0m\u001b[0mfacts\u001b[0m\u001b[1;33m[\u001b[0m\u001b[1;36m1\u001b[0m\u001b[1;33m]\u001b[0m\u001b[1;33m,\u001b[0m \u001b[0mAction\u001b[0m\u001b[1;33m=\u001b[0m\u001b[1;34m'Rotate'\u001b[0m\u001b[1;33m)\u001b[0m\u001b[1;33m)\u001b[0m\u001b[1;33m\u001b[0m\u001b[1;33m\u001b[0m\u001b[0m\n\u001b[0m",
      "\u001b[1;31mKeyError\u001b[0m: 1"
     ]
    }
   ],
   "source": [
    "engine = int(input(f'Engine:\\n1.\\tDefFacts\\n2.\\tAsserts\\t(50%\\tcomplete)\\nChoice:\\t{int}\\t-\\t'))\n",
    "delete = bool(input(f'Delete\\tFact:\\nEmpty.\\tNo\\n1.\\tYes\\nChoice:\\t{int}\\t-\\t'))\n",
    "modify = bool(input(f'Modify:\\nEmpty.\\tNo\\n1.\\tYes\\nChoice:\\t{int}\\t-\\t'))\n",
    "clear = bool(input(f'Clear:\\nEmpty.\\tNo\\n1.\\tYes\\nChoice:\\t{int}\\t-\\t'))\n",
    "rules = bool(input(f'Rules:\\nEmpty.\\tNo\\n1.\\tYes\\nChoice:\\t{int}\\t-\\t'))\n",
    "print(f'Engine:\\t{engine}\\nDelete:\\t{delete}\\nModify:\\t{modify}\\nClear:\\t{clear}\\nRules:\\t{rules}')\n",
    "if delete or modify or clear or rules:\n",
    "    numoffact = True\n",
    "    start(engine, modify=modify, numoffact=numoffact, delfacts=delete, clear=clear, rules=rules)"
   ]
  },
  {
   "cell_type": "code",
   "execution_count": null,
   "id": "4d1d1da0",
   "metadata": {},
   "outputs": [],
   "source": []
  }
 ],
 "metadata": {
  "kernelspec": {
   "display_name": "Python 3",
   "language": "python",
   "name": "python3"
  },
  "language_info": {
   "codemirror_mode": {
    "name": "ipython",
    "version": 3
   },
   "file_extension": ".py",
   "mimetype": "text/x-python",
   "name": "python",
   "nbconvert_exporter": "python",
   "pygments_lexer": "ipython3",
   "version": "3.8.8"
  }
 },
 "nbformat": 4,
 "nbformat_minor": 5
}
