{
 "cells": [
  {
   "cell_type": "code",
   "execution_count": 6,
   "id": "e32a7341",
   "metadata": {},
   "outputs": [],
   "source": [
    "from ES import Kebab"
   ]
  },
  {
   "cell_type": "code",
   "execution_count": 7,
   "id": "77b2aa4c",
   "metadata": {},
   "outputs": [],
   "source": [
    "from DefFact import DefFact"
   ]
  },
  {
   "cell_type": "code",
   "execution_count": 8,
   "id": "94bcb72a",
   "metadata": {},
   "outputs": [],
   "source": [
    "from Asserts import Asserts"
   ]
  },
  {
   "cell_type": "code",
   "execution_count": 9,
   "id": "944dd6ee",
   "metadata": {},
   "outputs": [],
   "source": [
    "def start(engine: int,\n",
    "          delfacts: bool = False,\n",
    "          numoffact: bool = False,\n",
    "          modify: bool = False,\n",
    "          clear: bool = False,\n",
    "          rules: bool = False):\n",
    "    if engine == 1:\n",
    "        e = DefFact()\n",
    "        e.reset()\n",
    "        e.init_kebab()\n",
    "        if delfacts and numoffact:\n",
    "            num = int(input('Fact Number: '))\n",
    "            e.retract(numoffact)\n",
    "        elif modify and numoffact:\n",
    "            num = int(input('Fact Number: '))\n",
    "            Type = str(input(f'Type\\tof\\tmeat:\\n1.\\tPork\\t2.\\tOstrich\\t3.\\tKangaroo\\t4.\\tChicken\\nChoice:\\t{str}\\t-\\t'))\n",
    "            Action = str(input(f'Action:\\n1.\\tWait\\t2.\\tRotate\\t3.\\tTake\\nChoice:\\t{str}\\t-\\t'))\n",
    "            DegreeOfRoastiness = int(input(f'Degree\\tOf\\tRoastiness:\\n1.\\tRoasted\\t'\n",
    "                                           f'2.\\tCheese\\t3.\\tStarted\\tRoasted\\t4.\\tBurned\\nChoice:\\t{int}\\t-\\t'))\n",
    "            AlreadyTurnedOver = bool(input(f'Already\\tTurned\\tOver:\\nEmpty.\\tNo\\t1.\\tYes\\nChoice:\\t{bool}\\t-\\t'))\n",
    "            args = dict(Type=Type, Action=Action, DegreeOfRoastiness=DegreeOfRoastiness,\n",
    "                        AlreadyTurnedOver=AlreadyTurnedOver)\n",
    "            e.declare(e.modify(e.facts[num], Type=args.get('Type'), Action=args.get('Action'),\n",
    "                               DegreeOfRoastiness=args.get('DegreeOfRoastiness'),\n",
    "                               AlreadyTurnedOver=args.get('AlreadyTurnedOver')))\n",
    "            print(e.facts)\n",
    "        elif modify and numoffact and rules:\n",
    "            num = int(input('Fact Number: '))\n",
    "            Type = str(input(f'Type\\tof\\tmeat:\\n1.\\tPork\\t2.\\tOstrich\\t3.\\tKangaroo\\t4.\\tChicken\\nChoice:\\t{str}\\t-\\t'))\n",
    "            Action = str(input(f'Action:\\n1.\\tWait\\t2.\\tRotate\\t3.\\tTake\\nChoice:\\t{str}\\t-\\t'))\n",
    "            DegreeOfRoastiness = int(input(f'Degree\\tOf\\tRoastiness:\\n1.\\tRoasted\\t'\n",
    "                                           f'2.\\tCheese\\t3.\\tStarted\\tRoasted\\t4.\\tBurned\\nChoice:\\t{int}\\t-\\t'))\n",
    "            AlreadyTurnedOver = bool(input(f'Already\\tTurned\\tOver:\\nEmpty.\\tNo\\t1.\\tYes\\nChoice:\\t{bool}\\t-\\t'))\n",
    "            args = dict(Type=Type, Action=Action, DegreeOfRoastiness=DegreeOfRoastiness,\n",
    "                        AlreadyTurnedOver=AlreadyTurnedOver)\n",
    "            e.declare(e.modify(e.facts[num], Type=args.get('Type'), Action=args.get('Action'),\n",
    "                               DegreeOfRoastiness=args.get('DegreeOfRoastiness'),\n",
    "                               AlreadyTurnedOver=args.get('AlreadyTurnedOver')))\n",
    "            print(e.facts)\n",
    "            e.run()\n",
    "        elif clear:\n",
    "            e.facts.clear()\n",
    "        elif rules:\n",
    "            e.run()\n",
    "    elif engine == 2:\n",
    "        e = Asserts()\n",
    "        e.reset()\n",
    "        e.init_kebab()\n",
    "        print(e.facts)\n",
    "        if delfacts:\n",
    "            e.retract(numoffact)"
   ]
  },
  {
   "cell_type": "code",
   "execution_count": 10,
   "id": "4d1aa6b5",
   "metadata": {},
   "outputs": [
    {
     "name": "stdout",
     "output_type": "stream",
     "text": [
      "Engine:\t1\n",
      "Delete:\tFalse\n",
      "Modify:\tFalse\n",
      "Clear:\tFalse\n",
      "Rules:\tTrue\n",
      "Ostrich Found\n",
      "<f-0>: InitialFact()\n",
      "<f-2>: Kebab(Type='Ostrich', Action='Wait', DegreeOfRoastiness=2, AlreadyTurnedOver=False, PartyReady=True, DoneOnOneSide=True, DoneOnBothSides=False, BothSideReady=False, Time=10, DoneAToTheMajority=False, NumberOfPeople=2)\n",
      "<f-3>: Kebab(Type='Kangaroo', Action='Wait', DegreeOfRoastiness=2, AlreadyTurnedOver=False, PartyReady=True, DoneOnOneSide=True, DoneOnBothSides=False, BothSideReady=False, Time=10, DoneAToTheMajority=False, NumberOfPeople=2)\n",
      "<f-4>: Kebab(Type='Kangaroo', Action='Wait', DegreeOfRoastiness=2, AlreadyTurnedOver=False, PartyReady=True, DoneOnOneSide=True, DoneOnBothSides=False, BothSideReady=False, Time=15, DoneAToTheMajority=False, NumberOfPeople=2)\n",
      "<f-5>: Kebab(Type='Chicken', Action='Wait', DegreeOfRoastiness=2, AlreadyTurnedOver=False, PartyReady=True, DoneOnOneSide=True, DoneOnBothSides=False, BothSideReady=False, Time=10, DoneAToTheMajority=False, NumberOfPeople=2)\n",
      "<f-6>: Kebab(Type='Chicken', Action='Wait', DegreeOfRoastiness=2, AlreadyTurnedOver=False, PartyReady=True, DoneOnOneSide=True, DoneOnBothSides=False, BothSideReady=False, Time=15, DoneAToTheMajority=False, NumberOfPeople=2)\n",
      "<f-7>: Kebab(Type='Pork', Action='Rotate', DegreeOfRoastiness=2, AlreadyTurnedOver=True, PartyReady=True, DoneOnOneSide=True, DoneOnBothSides=False, BothSideReady=False, Time=0, DoneAToTheMajority=False, NumberOfPeople=2)\n"
     ]
    }
   ],
   "source": [
    "engine = int(input(f'Engine:\\n1.\\tDefFacts\\n2.\\tAsserts\\t(50%\\tcomplete)\\nChoice:\\t{int}\\t-\\t'))\n",
    "delete = bool(input(f'Delete\\tFact:\\nEmpty.\\tNo\\n1.\\tYes\\nChoice:\\t{int}\\t-\\t'))\n",
    "modify = bool(input(f'Modify:\\nEmpty.\\tNo\\n1.\\tYes\\nChoice:\\t{int}\\t-\\t'))\n",
    "clear = bool(input(f'Clear:\\nEmpty.\\tNo\\n1.\\tYes\\nChoice:\\t{int}\\t-\\t'))\n",
    "rules = bool(input(f'Rules:\\nEmpty.\\tNo\\n1.\\tYes\\nChoice:\\t{int}\\t-\\t'))\n",
    "print(f'Engine:\\t{engine}\\nDelete:\\t{delete}\\nModify:\\t{modify}\\nClear:\\t{clear}\\nRules:\\t{rules}')\n",
    "if delete or modify or clear or rules:\n",
    "    numoffact = True\n",
    "    start(engine, modify=modify, numoffact=numoffact, delfacts=delete, clear=clear, rules=rules)"
   ]
  },
  {
   "cell_type": "code",
   "execution_count": null,
   "id": "4d1d1da0",
   "metadata": {},
   "outputs": [],
   "source": []
  }
 ],
 "metadata": {
  "kernelspec": {
   "display_name": "Python 3",
   "language": "python",
   "name": "python3"
  },
  "language_info": {
   "codemirror_mode": {
    "name": "ipython",
    "version": 3
   },
   "file_extension": ".py",
   "mimetype": "text/x-python",
   "name": "python",
   "nbconvert_exporter": "python",
   "pygments_lexer": "ipython3",
   "version": "3.8.0"
  }
 },
 "nbformat": 4,
 "nbformat_minor": 5
}
